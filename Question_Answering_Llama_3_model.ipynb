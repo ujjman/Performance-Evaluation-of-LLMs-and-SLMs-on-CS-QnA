{
  "nbformat": 4,
  "nbformat_minor": 0,
  "metadata": {
    "colab": {
      "provenance": []
    },
    "kernelspec": {
      "name": "python3",
      "display_name": "Python 3"
    },
    "language_info": {
      "name": "python"
    },
    "widgets": {
      "application/vnd.jupyter.widget-state+json": {
        "63167a2e5c6843fbb76cabc598212d00": {
          "model_module": "@jupyter-widgets/controls",
          "model_name": "HBoxModel",
          "model_module_version": "1.5.0",
          "state": {
            "_dom_classes": [],
            "_model_module": "@jupyter-widgets/controls",
            "_model_module_version": "1.5.0",
            "_model_name": "HBoxModel",
            "_view_count": null,
            "_view_module": "@jupyter-widgets/controls",
            "_view_module_version": "1.5.0",
            "_view_name": "HBoxView",
            "box_style": "",
            "children": [
              "IPY_MODEL_1319093ab2f24b2d9648b529ecd886eb",
              "IPY_MODEL_e3127a35761a4117b2dc1786a4e9e243",
              "IPY_MODEL_4e9aaa5cd113416db86a6de0e8a5c96c"
            ],
            "layout": "IPY_MODEL_54949a634af64b89bbe287178e20dda6"
          }
        },
        "1319093ab2f24b2d9648b529ecd886eb": {
          "model_module": "@jupyter-widgets/controls",
          "model_name": "HTMLModel",
          "model_module_version": "1.5.0",
          "state": {
            "_dom_classes": [],
            "_model_module": "@jupyter-widgets/controls",
            "_model_module_version": "1.5.0",
            "_model_name": "HTMLModel",
            "_view_count": null,
            "_view_module": "@jupyter-widgets/controls",
            "_view_module_version": "1.5.0",
            "_view_name": "HTMLView",
            "description": "",
            "description_tooltip": null,
            "layout": "IPY_MODEL_f272a7a283184ea9af693f76a305a709",
            "placeholder": "​",
            "style": "IPY_MODEL_3c291a3d05f94d75a8bd434e4a2ee694",
            "value": "Extracting entities: 100%"
          }
        },
        "e3127a35761a4117b2dc1786a4e9e243": {
          "model_module": "@jupyter-widgets/controls",
          "model_name": "FloatProgressModel",
          "model_module_version": "1.5.0",
          "state": {
            "_dom_classes": [],
            "_model_module": "@jupyter-widgets/controls",
            "_model_module_version": "1.5.0",
            "_model_name": "FloatProgressModel",
            "_view_count": null,
            "_view_module": "@jupyter-widgets/controls",
            "_view_module_version": "1.5.0",
            "_view_name": "ProgressView",
            "bar_style": "success",
            "description": "",
            "description_tooltip": null,
            "layout": "IPY_MODEL_cb341806c33f421991478f00ed3baa50",
            "max": 99,
            "min": 0,
            "orientation": "horizontal",
            "style": "IPY_MODEL_76e32b7da5c749d5b0b20257d55c3b76",
            "value": 99
          }
        },
        "4e9aaa5cd113416db86a6de0e8a5c96c": {
          "model_module": "@jupyter-widgets/controls",
          "model_name": "HTMLModel",
          "model_module_version": "1.5.0",
          "state": {
            "_dom_classes": [],
            "_model_module": "@jupyter-widgets/controls",
            "_model_module_version": "1.5.0",
            "_model_name": "HTMLModel",
            "_view_count": null,
            "_view_module": "@jupyter-widgets/controls",
            "_view_module_version": "1.5.0",
            "_view_name": "HTMLView",
            "description": "",
            "description_tooltip": null,
            "layout": "IPY_MODEL_f556b122106b4aa38bb4af398aa2ae2c",
            "placeholder": "​",
            "style": "IPY_MODEL_fe4406d4da11406f9b3c095cbe036794",
            "value": " 99/99 [01:00&lt;00:00,  2.62it/s]"
          }
        },
        "54949a634af64b89bbe287178e20dda6": {
          "model_module": "@jupyter-widgets/base",
          "model_name": "LayoutModel",
          "model_module_version": "1.2.0",
          "state": {
            "_model_module": "@jupyter-widgets/base",
            "_model_module_version": "1.2.0",
            "_model_name": "LayoutModel",
            "_view_count": null,
            "_view_module": "@jupyter-widgets/base",
            "_view_module_version": "1.2.0",
            "_view_name": "LayoutView",
            "align_content": null,
            "align_items": null,
            "align_self": null,
            "border": null,
            "bottom": null,
            "display": null,
            "flex": null,
            "flex_flow": null,
            "grid_area": null,
            "grid_auto_columns": null,
            "grid_auto_flow": null,
            "grid_auto_rows": null,
            "grid_column": null,
            "grid_gap": null,
            "grid_row": null,
            "grid_template_areas": null,
            "grid_template_columns": null,
            "grid_template_rows": null,
            "height": null,
            "justify_content": null,
            "justify_items": null,
            "left": null,
            "margin": null,
            "max_height": null,
            "max_width": null,
            "min_height": null,
            "min_width": null,
            "object_fit": null,
            "object_position": null,
            "order": null,
            "overflow": null,
            "overflow_x": null,
            "overflow_y": null,
            "padding": null,
            "right": null,
            "top": null,
            "visibility": null,
            "width": null
          }
        },
        "f272a7a283184ea9af693f76a305a709": {
          "model_module": "@jupyter-widgets/base",
          "model_name": "LayoutModel",
          "model_module_version": "1.2.0",
          "state": {
            "_model_module": "@jupyter-widgets/base",
            "_model_module_version": "1.2.0",
            "_model_name": "LayoutModel",
            "_view_count": null,
            "_view_module": "@jupyter-widgets/base",
            "_view_module_version": "1.2.0",
            "_view_name": "LayoutView",
            "align_content": null,
            "align_items": null,
            "align_self": null,
            "border": null,
            "bottom": null,
            "display": null,
            "flex": null,
            "flex_flow": null,
            "grid_area": null,
            "grid_auto_columns": null,
            "grid_auto_flow": null,
            "grid_auto_rows": null,
            "grid_column": null,
            "grid_gap": null,
            "grid_row": null,
            "grid_template_areas": null,
            "grid_template_columns": null,
            "grid_template_rows": null,
            "height": null,
            "justify_content": null,
            "justify_items": null,
            "left": null,
            "margin": null,
            "max_height": null,
            "max_width": null,
            "min_height": null,
            "min_width": null,
            "object_fit": null,
            "object_position": null,
            "order": null,
            "overflow": null,
            "overflow_x": null,
            "overflow_y": null,
            "padding": null,
            "right": null,
            "top": null,
            "visibility": null,
            "width": null
          }
        },
        "3c291a3d05f94d75a8bd434e4a2ee694": {
          "model_module": "@jupyter-widgets/controls",
          "model_name": "DescriptionStyleModel",
          "model_module_version": "1.5.0",
          "state": {
            "_model_module": "@jupyter-widgets/controls",
            "_model_module_version": "1.5.0",
            "_model_name": "DescriptionStyleModel",
            "_view_count": null,
            "_view_module": "@jupyter-widgets/base",
            "_view_module_version": "1.2.0",
            "_view_name": "StyleView",
            "description_width": ""
          }
        },
        "cb341806c33f421991478f00ed3baa50": {
          "model_module": "@jupyter-widgets/base",
          "model_name": "LayoutModel",
          "model_module_version": "1.2.0",
          "state": {
            "_model_module": "@jupyter-widgets/base",
            "_model_module_version": "1.2.0",
            "_model_name": "LayoutModel",
            "_view_count": null,
            "_view_module": "@jupyter-widgets/base",
            "_view_module_version": "1.2.0",
            "_view_name": "LayoutView",
            "align_content": null,
            "align_items": null,
            "align_self": null,
            "border": null,
            "bottom": null,
            "display": null,
            "flex": null,
            "flex_flow": null,
            "grid_area": null,
            "grid_auto_columns": null,
            "grid_auto_flow": null,
            "grid_auto_rows": null,
            "grid_column": null,
            "grid_gap": null,
            "grid_row": null,
            "grid_template_areas": null,
            "grid_template_columns": null,
            "grid_template_rows": null,
            "height": null,
            "justify_content": null,
            "justify_items": null,
            "left": null,
            "margin": null,
            "max_height": null,
            "max_width": null,
            "min_height": null,
            "min_width": null,
            "object_fit": null,
            "object_position": null,
            "order": null,
            "overflow": null,
            "overflow_x": null,
            "overflow_y": null,
            "padding": null,
            "right": null,
            "top": null,
            "visibility": null,
            "width": null
          }
        },
        "76e32b7da5c749d5b0b20257d55c3b76": {
          "model_module": "@jupyter-widgets/controls",
          "model_name": "ProgressStyleModel",
          "model_module_version": "1.5.0",
          "state": {
            "_model_module": "@jupyter-widgets/controls",
            "_model_module_version": "1.5.0",
            "_model_name": "ProgressStyleModel",
            "_view_count": null,
            "_view_module": "@jupyter-widgets/base",
            "_view_module_version": "1.2.0",
            "_view_name": "StyleView",
            "bar_color": null,
            "description_width": ""
          }
        },
        "f556b122106b4aa38bb4af398aa2ae2c": {
          "model_module": "@jupyter-widgets/base",
          "model_name": "LayoutModel",
          "model_module_version": "1.2.0",
          "state": {
            "_model_module": "@jupyter-widgets/base",
            "_model_module_version": "1.2.0",
            "_model_name": "LayoutModel",
            "_view_count": null,
            "_view_module": "@jupyter-widgets/base",
            "_view_module_version": "1.2.0",
            "_view_name": "LayoutView",
            "align_content": null,
            "align_items": null,
            "align_self": null,
            "border": null,
            "bottom": null,
            "display": null,
            "flex": null,
            "flex_flow": null,
            "grid_area": null,
            "grid_auto_columns": null,
            "grid_auto_flow": null,
            "grid_auto_rows": null,
            "grid_column": null,
            "grid_gap": null,
            "grid_row": null,
            "grid_template_areas": null,
            "grid_template_columns": null,
            "grid_template_rows": null,
            "height": null,
            "justify_content": null,
            "justify_items": null,
            "left": null,
            "margin": null,
            "max_height": null,
            "max_width": null,
            "min_height": null,
            "min_width": null,
            "object_fit": null,
            "object_position": null,
            "order": null,
            "overflow": null,
            "overflow_x": null,
            "overflow_y": null,
            "padding": null,
            "right": null,
            "top": null,
            "visibility": null,
            "width": null
          }
        },
        "fe4406d4da11406f9b3c095cbe036794": {
          "model_module": "@jupyter-widgets/controls",
          "model_name": "DescriptionStyleModel",
          "model_module_version": "1.5.0",
          "state": {
            "_model_module": "@jupyter-widgets/controls",
            "_model_module_version": "1.5.0",
            "_model_name": "DescriptionStyleModel",
            "_view_count": null,
            "_view_module": "@jupyter-widgets/base",
            "_view_module_version": "1.2.0",
            "_view_name": "StyleView",
            "description_width": ""
          }
        }
      }
    }
  },
  "cells": [
    {
      "cell_type": "markdown",
      "source": [
        "#### **1) Experimenting with Llama 3 model series for entity extraction/generation from given questions.**\n",
        "\n",
        "- previously llama-2 models have been used for this task. llama-3 models are new series of model and hence experimentation.\n",
        "\n",
        "- Using llama-3 models (8B and 70B) from [GroqCloud API](https://console.groq.com/playground) since it's fast and currently free for developers.\n",
        "- combining such prompting technique with Small Language Models?"
      ],
      "metadata": {
        "id": "dG1yzCISxJE2"
      }
    },
    {
      "cell_type": "code",
      "source": [
        "!pip install groq"
      ],
      "metadata": {
        "id": "-I5MjQdDxIiF",
        "colab": {
          "base_uri": "https://localhost:8080/"
        },
        "outputId": "fc47d26e-5dec-4777-b7c0-6836065eb150"
      },
      "execution_count": null,
      "outputs": [
        {
          "output_type": "stream",
          "name": "stdout",
          "text": [
            "Collecting groq\n",
            "  Downloading groq-0.9.0-py3-none-any.whl.metadata (13 kB)\n",
            "Requirement already satisfied: anyio<5,>=3.5.0 in /usr/local/lib/python3.10/dist-packages (from groq) (3.7.1)\n",
            "Requirement already satisfied: distro<2,>=1.7.0 in /usr/lib/python3/dist-packages (from groq) (1.7.0)\n",
            "Collecting httpx<1,>=0.23.0 (from groq)\n",
            "  Downloading httpx-0.27.0-py3-none-any.whl.metadata (7.2 kB)\n",
            "Requirement already satisfied: pydantic<3,>=1.9.0 in /usr/local/lib/python3.10/dist-packages (from groq) (2.8.2)\n",
            "Requirement already satisfied: sniffio in /usr/local/lib/python3.10/dist-packages (from groq) (1.3.1)\n",
            "Requirement already satisfied: typing-extensions<5,>=4.7 in /usr/local/lib/python3.10/dist-packages (from groq) (4.12.2)\n",
            "Requirement already satisfied: idna>=2.8 in /usr/local/lib/python3.10/dist-packages (from anyio<5,>=3.5.0->groq) (3.7)\n",
            "Requirement already satisfied: exceptiongroup in /usr/local/lib/python3.10/dist-packages (from anyio<5,>=3.5.0->groq) (1.2.2)\n",
            "Requirement already satisfied: certifi in /usr/local/lib/python3.10/dist-packages (from httpx<1,>=0.23.0->groq) (2024.7.4)\n",
            "Collecting httpcore==1.* (from httpx<1,>=0.23.0->groq)\n",
            "  Downloading httpcore-1.0.5-py3-none-any.whl.metadata (20 kB)\n",
            "Collecting h11<0.15,>=0.13 (from httpcore==1.*->httpx<1,>=0.23.0->groq)\n",
            "  Downloading h11-0.14.0-py3-none-any.whl.metadata (8.2 kB)\n",
            "Requirement already satisfied: annotated-types>=0.4.0 in /usr/local/lib/python3.10/dist-packages (from pydantic<3,>=1.9.0->groq) (0.7.0)\n",
            "Requirement already satisfied: pydantic-core==2.20.1 in /usr/local/lib/python3.10/dist-packages (from pydantic<3,>=1.9.0->groq) (2.20.1)\n",
            "Downloading groq-0.9.0-py3-none-any.whl (103 kB)\n",
            "\u001b[2K   \u001b[90m━━━━━━━━━━━━━━━━━━━━━━━━━━━━━━━━━━━━━━━━\u001b[0m \u001b[32m103.5/103.5 kB\u001b[0m \u001b[31m1.8 MB/s\u001b[0m eta \u001b[36m0:00:00\u001b[0m\n",
            "\u001b[?25hDownloading httpx-0.27.0-py3-none-any.whl (75 kB)\n",
            "\u001b[2K   \u001b[90m━━━━━━━━━━━━━━━━━━━━━━━━━━━━━━━━━━━━━━━━\u001b[0m \u001b[32m75.6/75.6 kB\u001b[0m \u001b[31m4.7 MB/s\u001b[0m eta \u001b[36m0:00:00\u001b[0m\n",
            "\u001b[?25hDownloading httpcore-1.0.5-py3-none-any.whl (77 kB)\n",
            "\u001b[2K   \u001b[90m━━━━━━━━━━━━━━━━━━━━━━━━━━━━━━━━━━━━━━━━\u001b[0m \u001b[32m77.9/77.9 kB\u001b[0m \u001b[31m4.6 MB/s\u001b[0m eta \u001b[36m0:00:00\u001b[0m\n",
            "\u001b[?25hDownloading h11-0.14.0-py3-none-any.whl (58 kB)\n",
            "\u001b[2K   \u001b[90m━━━━━━━━━━━━━━━━━━━━━━━━━━━━━━━━━━━━━━━━\u001b[0m \u001b[32m58.3/58.3 kB\u001b[0m \u001b[31m4.0 MB/s\u001b[0m eta \u001b[36m0:00:00\u001b[0m\n",
            "\u001b[?25hInstalling collected packages: h11, httpcore, httpx, groq\n",
            "Successfully installed groq-0.9.0 h11-0.14.0 httpcore-1.0.5 httpx-0.27.0\n"
          ]
        }
      ]
    },
    {
      "cell_type": "code",
      "source": [
        "# load question from questions1.json file.\n",
        "import json\n",
        "from google.colab import drive\n",
        "\n",
        "# all files here : https://drive.google.com/drive/folders/148AMfbT_cCmL0gXVADB1kL0cy8cuCG40?usp=drive_link\n",
        "# all questions present in questions1.json file\n",
        "## to use the file located in drive :\n",
        "# 1) create a copy of this google drive in your drive account.\n",
        "# 2 in colab , in files , mount the google drive.\n",
        "# 3) select the file-> copy path -> paste it in question_f\n",
        "\n",
        "question_file_path = \"/content/drive/MyDrive/question_answering_files/questions1.json\"\n",
        "\n",
        "def get_questions(question_file_path):\n",
        "  with open(question_file_path ,'r') as file:\n",
        "    data = json.load(file)\n",
        "  return data['questions']\n",
        "\n"
      ],
      "metadata": {
        "id": "faEeJz-d68u9"
      },
      "execution_count": null,
      "outputs": []
    },
    {
      "cell_type": "code",
      "execution_count": null,
      "metadata": {
        "id": "OHEOQEMnwf-w"
      },
      "outputs": [],
      "source": [
        "# iterate over each question to extract key entities present in that question.\n",
        "from groq import Groq\n",
        "\n",
        "\n",
        "client = Groq(\n",
        "    api_key = \"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\",\n",
        ")\n",
        "# list of models : https://console.groq.com/docs/models\n",
        "\n",
        "def extract_entities(question):\n",
        "  try:\n",
        "    chat_completion = client.chat.completions.create(\n",
        "    messages=[\n",
        "                {\"role\": \"system\", \"content\": \"You are a helpful assistant. Extract key concepts, technical terms, and topics from the user's question. Respond ONLY with a list in this format: [item1, item2, item3]. Do not include any other text or explanations.\"},\n",
        "                {\"role\": \"user\", \"content\": question}\n",
        "            ],\n",
        "    model=\"llama-3.1-70b-versatile\")\n",
        "    return chat_completion.choices[0].message.content.strip()\n",
        "  except Exception as e:\n",
        "    print(f\"Error processing question: {question}\")\n",
        "    print(f\"Error: {e}\")\n",
        "    return \"Error occurred\"\n",
        "\n",
        "\n",
        "    # prompt1 : \"{\"role\": \"system\", \"content\": \"You are a helpful assistant. Extract and list the main entities/key topics/technical terms from the given question. strictly Just list entities. nothing else. give answer in list format:[]\"},\n",
        "    # prompt2 : {\"role\": \"system\", \"content\": \"You are a helpful assistant. Identify the question and try to extract key concepts/technical terms/topics involved to make it's answering easier. Give answer in List format:[]\"}\n",
        "    # prompt 3 : {\"role\": \"system\", \"content\": \"You are a helpful assistant. check the question and try to extract key concepts/technical terms/topics involved to make it's answering easier. format your answer as list only:[]\"},\n",
        "                # {\"role\": \"user\", \"content\": question}\n",
        "    # prompt4 :{\"role\": \"system\", \"content\": \"You are a helpful assistant. Extract key concepts, technical terms, and topics from the user's question. Respond ONLY with a list in this format: [item1, item2, item3]. Do not include any other text or explanations.\"},\n"
      ]
    },
    {
      "cell_type": "markdown",
      "source": [
        "### prompt4 gives the best output amongst all 4.\n",
        "\n",
        "#### prompt4 uses one-shot prompting providing a single example of the required output."
      ],
      "metadata": {
        "id": "B5KssfD_8cp5"
      }
    },
    {
      "cell_type": "code",
      "source": [
        "from tqdm.notebook import tqdm\n",
        "\n",
        "# get the questions\n",
        "questions = get_questions(question_file_path)\n",
        "\n",
        "# generate the results\n",
        "results = []\n",
        "for question in tqdm(questions , desc = \"Extracting entities\"):\n",
        "  entities = extract_entities(question)\n",
        "  results.append({\n",
        "      \"question\" : question,\n",
        "      \"key_entities\" : entities\n",
        "  })"
      ],
      "metadata": {
        "colab": {
          "base_uri": "https://localhost:8080/",
          "height": 49,
          "referenced_widgets": [
            "63167a2e5c6843fbb76cabc598212d00",
            "1319093ab2f24b2d9648b529ecd886eb",
            "e3127a35761a4117b2dc1786a4e9e243",
            "4e9aaa5cd113416db86a6de0e8a5c96c",
            "54949a634af64b89bbe287178e20dda6",
            "f272a7a283184ea9af693f76a305a709",
            "3c291a3d05f94d75a8bd434e4a2ee694",
            "cb341806c33f421991478f00ed3baa50",
            "76e32b7da5c749d5b0b20257d55c3b76",
            "f556b122106b4aa38bb4af398aa2ae2c",
            "fe4406d4da11406f9b3c095cbe036794"
          ]
        },
        "id": "9ubKR2fg_TjP",
        "outputId": "5734786a-3beb-4c79-dcee-2d94c73a8a13"
      },
      "execution_count": null,
      "outputs": [
        {
          "output_type": "display_data",
          "data": {
            "text/plain": [
              "Extracting entities:   0%|          | 0/99 [00:00<?, ?it/s]"
            ],
            "application/vnd.jupyter.widget-view+json": {
              "version_major": 2,
              "version_minor": 0,
              "model_id": "63167a2e5c6843fbb76cabc598212d00"
            }
          },
          "metadata": {}
        }
      ]
    },
    {
      "cell_type": "code",
      "source": [
        "# Save results to a new JSON file\n",
        "output_filename = 'prompt4_entity_result.json'\n",
        "with open(output_filename, 'w') as f:\n",
        "    json.dump(results, f, indent=2)"
      ],
      "metadata": {
        "id": "wnM7at6gAaxQ"
      },
      "execution_count": null,
      "outputs": []
    },
    {
      "cell_type": "markdown",
      "source": [
        "# New Section"
      ],
      "metadata": {
        "id": "f-TO3-gJy10D"
      }
    }
  ]
}